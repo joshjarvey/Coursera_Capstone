{
  "nbformat": 4,
  "nbformat_minor": 0,
  "metadata": {
    "colab": {
      "name": "Capstone_Final Project.ipynb",
      "provenance": [],
      "include_colab_link": true
    },
    "kernelspec": {
      "name": "python3",
      "display_name": "Python 3"
    }
  },
  "cells": [
    {
      "cell_type": "markdown",
      "metadata": {
        "id": "view-in-github",
        "colab_type": "text"
      },
      "source": [
        "<a href=\"https://colab.research.google.com/github/joshjarvey/Coursera_Capstone/blob/master/Capstone_Final_Project.ipynb\" target=\"_parent\"><img src=\"https://colab.research.google.com/assets/colab-badge.svg\" alt=\"Open In Colab\"/></a>"
      ]
    },
    {
      "cell_type": "code",
      "metadata": {
        "id": "IKX_izv4bWLj",
        "colab_type": "code",
        "colab": {}
      },
      "source": [
        "import pandas as pd\n",
        "import numpy as np\n",
        "import folium\n",
        "from geopy.geocoders import Nominatim\n",
        "import requests"
      ],
      "execution_count": 0,
      "outputs": []
    },
    {
      "cell_type": "code",
      "metadata": {
        "id": "v0b7hmxvbqY7",
        "colab_type": "code",
        "outputId": "a5ee6ac1-31fc-4de0-d85d-f93478203afe",
        "colab": {
          "base_uri": "https://localhost:8080/",
          "height": 877
        }
      },
      "source": [
        "  #This data was gathered from an open public source via the City of Madison's Database:http://data-cityofmadison.opendata.arcgis.com/datasets/neighborhood-plans\n",
        "  #Since the database is an ARCGIS database, it only contained SHAPE data.\n",
        "  #The data was downloaded as a \"SHAPE\" file and converted to latitude and longitude using the free tool here:https://mygeodata.cloud/converter/shp-to-latlong\n",
        "\n",
        "  #read in the .csv data, and drop the columns that are not needed for the analysis of this project\n",
        "df_msn_neighborhood = pd.read_csv('/tmp/Neighborhood_Plans.csv').drop(['OBJECTID_1','OBJECTID','Status','Year','SHAPE_Leng','Link','ShapeSTAre','ShapeSTLen'], axis=1)\n",
        "\n",
        "  #rename the columns for easier referencing in the project.\n",
        "df_msn_neighborhood.rename(columns={'Y':'Latitude','X':'Longitude','PlanName':'Neighborhood'}, inplace=True)\n",
        "\n",
        "  #cleaning the names of the neighborhood values \n",
        "df_msn_neighborhood[\"Neighborhood\"]= df_msn_neighborhood[\"Neighborhood\"].str.replace('Neighborhood', '')\n",
        "df_msn_neighborhood[\"Neighborhood\"]= df_msn_neighborhood[\"Neighborhood\"].str.replace('Plan', '')\n",
        "df_msn_neighborhood\n"
      ],
      "execution_count": 4,
      "outputs": [
        {
          "output_type": "execute_result",
          "data": {
            "text/html": [
              "<div>\n",
              "<style scoped>\n",
              "    .dataframe tbody tr th:only-of-type {\n",
              "        vertical-align: middle;\n",
              "    }\n",
              "\n",
              "    .dataframe tbody tr th {\n",
              "        vertical-align: top;\n",
              "    }\n",
              "\n",
              "    .dataframe thead th {\n",
              "        text-align: right;\n",
              "    }\n",
              "</style>\n",
              "<table border=\"1\" class=\"dataframe\">\n",
              "  <thead>\n",
              "    <tr style=\"text-align: right;\">\n",
              "      <th></th>\n",
              "      <th>Longitude</th>\n",
              "      <th>Latitude</th>\n",
              "      <th>Neighborhood</th>\n",
              "    </tr>\n",
              "  </thead>\n",
              "  <tbody>\n",
              "    <tr>\n",
              "      <th>0</th>\n",
              "      <td>-89.341014</td>\n",
              "      <td>43.098683</td>\n",
              "      <td>Schenk-Atwood-Starkweather-Worthington Park</td>\n",
              "    </tr>\n",
              "    <tr>\n",
              "      <th>1</th>\n",
              "      <td>-89.372108</td>\n",
              "      <td>43.086926</td>\n",
              "      <td>Tenney-Lapham-Old Market</td>\n",
              "    </tr>\n",
              "    <tr>\n",
              "      <th>2</th>\n",
              "      <td>-89.358018</td>\n",
              "      <td>43.087919</td>\n",
              "      <td>Marquette-Schenk-Atwood</td>\n",
              "    </tr>\n",
              "    <tr>\n",
              "      <th>3</th>\n",
              "      <td>-89.409940</td>\n",
              "      <td>43.061988</td>\n",
              "      <td>Brittingham-Vilas</td>\n",
              "    </tr>\n",
              "    <tr>\n",
              "      <th>4</th>\n",
              "      <td>-89.390866</td>\n",
              "      <td>43.054009</td>\n",
              "      <td>Bay Creek</td>\n",
              "    </tr>\n",
              "    <tr>\n",
              "      <th>5</th>\n",
              "      <td>-89.346647</td>\n",
              "      <td>43.048048</td>\n",
              "      <td>Broadway-Simpson-Waunona</td>\n",
              "    </tr>\n",
              "    <tr>\n",
              "      <th>6</th>\n",
              "      <td>-89.456386</td>\n",
              "      <td>43.027492</td>\n",
              "      <td>Allied-Dunn's Marsh</td>\n",
              "    </tr>\n",
              "    <tr>\n",
              "      <th>7</th>\n",
              "      <td>-89.329012</td>\n",
              "      <td>43.113940</td>\n",
              "      <td>Carpenter-Ridgeway-Hawthorne-Truax</td>\n",
              "    </tr>\n",
              "    <tr>\n",
              "      <th>8</th>\n",
              "      <td>-89.488393</td>\n",
              "      <td>43.045119</td>\n",
              "      <td>Southwest</td>\n",
              "    </tr>\n",
              "    <tr>\n",
              "      <th>9</th>\n",
              "      <td>-89.384803</td>\n",
              "      <td>43.051256</td>\n",
              "      <td>South Madison</td>\n",
              "    </tr>\n",
              "    <tr>\n",
              "      <th>10</th>\n",
              "      <td>-89.474321</td>\n",
              "      <td>43.081871</td>\n",
              "      <td>Spring Harbor</td>\n",
              "    </tr>\n",
              "    <tr>\n",
              "      <th>11</th>\n",
              "      <td>-89.404887</td>\n",
              "      <td>43.062604</td>\n",
              "      <td>Greenbush</td>\n",
              "    </tr>\n",
              "    <tr>\n",
              "      <th>12</th>\n",
              "      <td>-89.366654</td>\n",
              "      <td>43.127063</td>\n",
              "      <td>Northport Warner Park Sherman</td>\n",
              "    </tr>\n",
              "    <tr>\n",
              "      <th>13</th>\n",
              "      <td>-89.453967</td>\n",
              "      <td>43.028905</td>\n",
              "      <td>Allied-Dunn's Marsh-Belmar s Physical Improvem...</td>\n",
              "    </tr>\n",
              "    <tr>\n",
              "      <th>14</th>\n",
              "      <td>-89.404971</td>\n",
              "      <td>43.069014</td>\n",
              "      <td>Regent Street - South Campus</td>\n",
              "    </tr>\n",
              "    <tr>\n",
              "      <th>15</th>\n",
              "      <td>-89.303949</td>\n",
              "      <td>43.102335</td>\n",
              "      <td>Hiestand</td>\n",
              "    </tr>\n",
              "    <tr>\n",
              "      <th>16</th>\n",
              "      <td>-89.457989</td>\n",
              "      <td>43.051803</td>\n",
              "      <td>Midvale Heights\\Westmorland Joint</td>\n",
              "    </tr>\n",
              "    <tr>\n",
              "      <th>17</th>\n",
              "      <td>-89.357813</td>\n",
              "      <td>43.102251</td>\n",
              "      <td>Emerson East Eken Park Yahara</td>\n",
              "    </tr>\n",
              "    <tr>\n",
              "      <th>18</th>\n",
              "      <td>-89.423833</td>\n",
              "      <td>43.072774</td>\n",
              "      <td>University Avenue Corridor</td>\n",
              "    </tr>\n",
              "    <tr>\n",
              "      <th>19</th>\n",
              "      <td>-89.459790</td>\n",
              "      <td>43.069368</td>\n",
              "      <td>University Hill Farms</td>\n",
              "    </tr>\n",
              "    <tr>\n",
              "      <th>20</th>\n",
              "      <td>-89.445474</td>\n",
              "      <td>43.068053</td>\n",
              "      <td>Hoyt Park Area</td>\n",
              "    </tr>\n",
              "    <tr>\n",
              "      <th>21</th>\n",
              "      <td>-89.428050</td>\n",
              "      <td>43.030104</td>\n",
              "      <td>Arbor Hills-Leopold</td>\n",
              "    </tr>\n",
              "    <tr>\n",
              "      <th>22</th>\n",
              "      <td>-89.389322</td>\n",
              "      <td>43.072876</td>\n",
              "      <td>Downtown</td>\n",
              "    </tr>\n",
              "    <tr>\n",
              "      <th>23</th>\n",
              "      <td>-89.422141</td>\n",
              "      <td>43.060541</td>\n",
              "      <td>Monroe Street Commercial District</td>\n",
              "    </tr>\n",
              "    <tr>\n",
              "      <th>24</th>\n",
              "      <td>-89.370387</td>\n",
              "      <td>43.084398</td>\n",
              "      <td>East Washington Capitol Gateway Corridor</td>\n",
              "    </tr>\n",
              "    <tr>\n",
              "      <th>25</th>\n",
              "      <td>-89.309473</td>\n",
              "      <td>43.076960</td>\n",
              "      <td>Stoughton Road Revitalization Project</td>\n",
              "    </tr>\n",
              "    <tr>\n",
              "      <th>26</th>\n",
              "      <td>-89.397318</td>\n",
              "      <td>43.052813</td>\n",
              "      <td>Wingra Creek Build</td>\n",
              "    </tr>\n",
              "  </tbody>\n",
              "</table>\n",
              "</div>"
            ],
            "text/plain": [
              "    Longitude   Latitude                                       Neighborhood\n",
              "0  -89.341014  43.098683      Schenk-Atwood-Starkweather-Worthington Park  \n",
              "1  -89.372108  43.086926                         Tenney-Lapham-Old Market  \n",
              "2  -89.358018  43.087919                          Marquette-Schenk-Atwood  \n",
              "3  -89.409940  43.061988                                Brittingham-Vilas  \n",
              "4  -89.390866  43.054009                                        Bay Creek  \n",
              "5  -89.346647  43.048048                         Broadway-Simpson-Waunona  \n",
              "6  -89.456386  43.027492                              Allied-Dunn's Marsh  \n",
              "7  -89.329012  43.113940               Carpenter-Ridgeway-Hawthorne-Truax  \n",
              "8  -89.488393  43.045119                                        Southwest  \n",
              "9  -89.384803  43.051256                                    South Madison  \n",
              "10 -89.474321  43.081871                                    Spring Harbor  \n",
              "11 -89.404887  43.062604                                         Greenbush \n",
              "12 -89.366654  43.127063                    Northport Warner Park Sherman  \n",
              "13 -89.453967  43.028905  Allied-Dunn's Marsh-Belmar s Physical Improvem...\n",
              "14 -89.404971  43.069014                      Regent Street - South Campus \n",
              "15 -89.303949  43.102335                                         Hiestand  \n",
              "16 -89.457989  43.051803                Midvale Heights\\Westmorland Joint  \n",
              "17 -89.357813  43.102251                    Emerson East Eken Park Yahara  \n",
              "18 -89.423833  43.072774                        University Avenue Corridor \n",
              "19 -89.459790  43.069368                            University Hill Farms  \n",
              "20 -89.445474  43.068053                                   Hoyt Park Area  \n",
              "21 -89.428050  43.030104                              Arbor Hills-Leopold  \n",
              "22 -89.389322  43.072876                                          Downtown \n",
              "23 -89.422141  43.060541                 Monroe Street Commercial District \n",
              "24 -89.370387  43.084398           East Washington Capitol Gateway Corridor\n",
              "25 -89.309473  43.076960              Stoughton Road Revitalization Project\n",
              "26 -89.397318  43.052813                                 Wingra Creek Build"
            ]
          },
          "metadata": {
            "tags": []
          },
          "execution_count": 4
        }
      ]
    },
    {
      "cell_type": "code",
      "metadata": {
        "id": "Q9Q0Wm0Yb-wL",
        "colab_type": "code",
        "outputId": "8139d64d-af08-41c0-ed0a-aba6b05a8a0a",
        "colab": {
          "base_uri": "https://localhost:8080/",
          "height": 35
        }
      },
      "source": [
        "#getting the lat/long coordinates of toronto, using the geolocater module\n",
        "address = 'Madison, WI'\n",
        "\n",
        "geolocator = Nominatim(user_agent=\"madison_explorer\")\n",
        "location = geolocator.geocode(address)\n",
        "latitude = location.latitude\n",
        "longitude = location.longitude\n",
        "print('The geograpical coordinate of Madison are {}, {}.'.format(latitude, longitude))"
      ],
      "execution_count": 5,
      "outputs": [
        {
          "output_type": "stream",
          "text": [
            "The geograpical coordinate of Madison are 43.074761, -89.3837613.\n"
          ],
          "name": "stdout"
        }
      ]
    },
    {
      "cell_type": "code",
      "metadata": {
        "id": "y2J5SUGXgsNm",
        "colab_type": "code",
        "outputId": "2f062749-baad-40ab-e56e-8a1ad76c461f",
        "colab": {
          "base_uri": "https://localhost:8080/",
          "height": 903
        }
      },
      "source": [
        "#create map of Toronto using latitude and longitude values\n",
        "map_madison = folium.Map(location=[latitude, longitude], zoom_start=13)\n",
        "\n",
        "    #add markers to map\n",
        "for lat, lng, label in zip(df_msn_neighborhood['Latitude'], df_msn_neighborhood['Longitude'], df_msn_neighborhood['Neighborhood']):\n",
        "    label = folium.Popup(label, parse_html=True)\n",
        "    folium.CircleMarker(\n",
        "        [lat, lng],\n",
        "        radius=5,\n",
        "        popup=label,\n",
        "        color='blue',\n",
        "        fill=True,\n",
        "        fill_color='#3186cc',\n",
        "        fill_opacity=0.7,\n",
        "        parse_html=False).add_to(map_madison)  \n",
        "\n",
        "    #display map\n",
        "map_madison"
      ],
      "execution_count": 6,
      "outputs": [
        {
          "output_type": "execute_result",
          "data": {
            "text/html": [
              "<div style=\"width:100%;\"><div style=\"position:relative;width:100%;height:0;padding-bottom:60%;\"><iframe src=\"data:text/html;charset=utf-8;base64,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\" style=\"position:absolute;width:100%;height:100%;left:0;top:0;border:none !important;\" allowfullscreen webkitallowfullscreen mozallowfullscreen></iframe></div></div>"
            ],
            "text/plain": [
              "<folium.folium.Map at 0x7f0e78d4b0f0>"
            ]
          },
          "metadata": {
            "tags": []
          },
          "execution_count": 6
        }
      ]
    },
    {
      "cell_type": "code",
      "metadata": {
        "id": "WKtX38P2g6x7",
        "colab_type": "code",
        "colab": {}
      },
      "source": [
        "#defining foursquare credentials\n",
        "CLIENT_ID = 'RNBGL5BEPF5JT2ZT0KK4KHBEFTH0LRVTDAC5KQNCCTQZTBZU' # your Foursquare ID\n",
        "CLIENT_SECRET = '41IV3LTCYNOFHJMTYFAPZC0UI3AYLWVYP41IMXQDF0NMGNVQ' # your Foursquare Secret\n",
        "VERSION = '20180605' # Foursquare API version"
      ],
      "execution_count": 0,
      "outputs": []
    },
    {
      "cell_type": "code",
      "metadata": {
        "id": "Gsp9Y4egxKZq",
        "colab_type": "code",
        "outputId": "21f77dd5-631f-41d1-ba73-64224e794265",
        "colab": {
          "base_uri": "https://localhost:8080/",
          "height": 35
        }
      },
      "source": [
        "#reviewing lat/long of the first item in the new dataframe\n",
        "neighborhood_latitude = df_msn_neighborhood.loc[1, 'Latitude'] # neighborhood latitude value\n",
        "neighborhood_longitude = df_msn_neighborhood.loc[1, 'Longitude'] # neighborhood longitude value\n",
        "\n",
        "neighborhood_name = df_msn_neighborhood.loc[1, 'Neighborhood'] # neighborhood name\n",
        "\n",
        "print('Latitude and longitude values of {} are {}, {}.'.format(neighborhood_name, \n",
        "                                                               neighborhood_latitude, \n",
        "                                                               neighborhood_longitude))"
      ],
      "execution_count": 8,
      "outputs": [
        {
          "output_type": "stream",
          "text": [
            "Latitude and longitude values of Tenney-Lapham-Old Market   are 43.0869264952734, -89.3721077659885.\n"
          ],
          "name": "stdout"
        }
      ]
    },
    {
      "cell_type": "code",
      "metadata": {
        "id": "ywGElWZ6w3Em",
        "colab_type": "code",
        "colab": {
          "base_uri": "https://localhost:8080/",
          "height": 55
        },
        "outputId": "a61c6443-0e09-4724-ab47-232467c6f292"
      },
      "source": [
        "#compiling the URL that we'll pass to the foursquare API \n",
        "LIMIT = 100 # limit of number of venues returned by Foursquare API\n",
        "radius = 1610 # define radius\n",
        "query = 'Grocery Store'\n",
        "\n",
        "# create URL\n",
        "url = 'https://api.foursquare.com/v2/venues/explore?&client_id={}&client_secret={}&v={}&ll={},{}&radius={}&limit={}&query={}'.format(\n",
        "    CLIENT_ID, \n",
        "    CLIENT_SECRET, \n",
        "    VERSION, \n",
        "    neighborhood_latitude, \n",
        "    neighborhood_longitude, \n",
        "    radius, \n",
        "    LIMIT,\n",
        "    query\n",
        "    )\n",
        "\n",
        "print (url)"
      ],
      "execution_count": 14,
      "outputs": [
        {
          "output_type": "stream",
          "text": [
            "https://api.foursquare.com/v2/venues/explore?&client_id=RNBGL5BEPF5JT2ZT0KK4KHBEFTH0LRVTDAC5KQNCCTQZTBZU&client_secret=41IV3LTCYNOFHJMTYFAPZC0UI3AYLWVYP41IMXQDF0NMGNVQ&v=20180605&ll=43.0869264952734,-89.3721077659885&radius=1610&limit=100&query=Grocery Store\n"
          ],
          "name": "stdout"
        }
      ]
    },
    {
      "cell_type": "code",
      "metadata": {
        "id": "TNMS4Mj_xczs",
        "colab_type": "code",
        "colab": {}
      },
      "source": [
        "#calling the foursquare API with the compiled URL. It returns a .json file with all the data, so storing that .json into a variable\n",
        "results = requests.get(url).json()"
      ],
      "execution_count": 0,
      "outputs": []
    },
    {
      "cell_type": "code",
      "metadata": {
        "id": "Y5icN8ISxdbb",
        "colab_type": "code",
        "outputId": "5d324e05-f232-4ec5-cabe-08a26824d8d5",
        "colab": {
          "base_uri": "https://localhost:8080/",
          "height": 1000
        }
      },
      "source": [
        "results"
      ],
      "execution_count": 11,
      "outputs": [
        {
          "output_type": "execute_result",
          "data": {
            "text/plain": [
              "{'meta': {'code': 200, 'requestId': '5dcdb626b9a389001b9bd84e'},\n",
              " 'response': {'groups': [{'items': [{'reasons': {'count': 0,\n",
              "       'items': [{'reasonName': 'globalInteractionReason',\n",
              "         'summary': 'This spot is popular',\n",
              "         'type': 'general'}]},\n",
              "      'referralId': 'e-0-5646c59f498eb7f011b73aeb-0',\n",
              "      'venue': {'categories': [{'icon': {'prefix': 'https://ss3.4sqi.net/img/categories_v2/shops/food_grocery_',\n",
              "          'suffix': '.png'},\n",
              "         'id': '4bf58dd8d48988d118951735',\n",
              "         'name': 'Grocery Store',\n",
              "         'pluralName': 'Grocery Stores',\n",
              "         'primary': True,\n",
              "         'shortName': 'Grocery Store'}],\n",
              "       'id': '5646c59f498eb7f011b73aeb',\n",
              "       'location': {'address': '810 E. Washington Ave.',\n",
              "        'cc': 'US',\n",
              "        'city': 'Madison',\n",
              "        'country': 'United States',\n",
              "        'distance': 642,\n",
              "        'formattedAddress': ['810 E. Washington Ave.',\n",
              "         'Madison, WI 53703',\n",
              "         'United States'],\n",
              "        'labeledLatLngs': [{'label': 'display',\n",
              "          'lat': 43.08160876418695,\n",
              "          'lng': -89.37516764824981}],\n",
              "        'lat': 43.08160876418695,\n",
              "        'lng': -89.37516764824981,\n",
              "        'postalCode': '53703',\n",
              "        'state': 'WI'},\n",
              "       'name': 'Festival Foods',\n",
              "       'photos': {'count': 0, 'groups': []}}},\n",
              "     {'reasons': {'count': 0,\n",
              "       'items': [{'reasonName': 'globalInteractionReason',\n",
              "         'summary': 'This spot is popular',\n",
              "         'type': 'general'}]},\n",
              "      'referralId': 'e-0-4aff2f7bf964a520973522e3-1',\n",
              "      'venue': {'categories': [{'icon': {'prefix': 'https://ss3.4sqi.net/img/categories_v2/shops/food_grocery_',\n",
              "          'suffix': '.png'},\n",
              "         'id': '4bf58dd8d48988d118951735',\n",
              "         'name': 'Grocery Store',\n",
              "         'pluralName': 'Grocery Stores',\n",
              "         'primary': True,\n",
              "         'shortName': 'Grocery Store'}],\n",
              "       'id': '4aff2f7bf964a520973522e3',\n",
              "       'location': {'address': '1221 Williamson St',\n",
              "        'cc': 'US',\n",
              "        'city': 'Madison',\n",
              "        'country': 'United States',\n",
              "        'crossStreet': 'Baldwin St.',\n",
              "        'distance': 820,\n",
              "        'formattedAddress': ['1221 Williamson St (Baldwin St.)',\n",
              "         'Madison, WI 53703',\n",
              "         'United States'],\n",
              "        'labeledLatLngs': [{'label': 'display',\n",
              "          'lat': 43.08376510304689,\n",
              "          'lng': -89.36299535726307}],\n",
              "        'lat': 43.08376510304689,\n",
              "        'lng': -89.36299535726307,\n",
              "        'postalCode': '53703',\n",
              "        'state': 'WI'},\n",
              "       'name': 'Willy Street Co-op',\n",
              "       'photos': {'count': 0, 'groups': []}}},\n",
              "     {'reasons': {'count': 0,\n",
              "       'items': [{'reasonName': 'globalInteractionReason',\n",
              "         'summary': 'This spot is popular',\n",
              "         'type': 'general'}]},\n",
              "      'referralId': 'e-0-4b7ca2fff964a520de9e2fe3-2',\n",
              "      'venue': {'categories': [{'icon': {'prefix': 'https://ss3.4sqi.net/img/categories_v2/shops/food_grocery_',\n",
              "          'suffix': '.png'},\n",
              "         'id': '4bf58dd8d48988d118951735',\n",
              "         'name': 'Grocery Store',\n",
              "         'pluralName': 'Grocery Stores',\n",
              "         'primary': True,\n",
              "         'shortName': 'Grocery Store'}],\n",
              "       'delivery': {'id': '1106210',\n",
              "        'provider': {'icon': {'name': '/delivery_provider_grubhub_20180129.png',\n",
              "          'prefix': 'https://fastly.4sqi.net/img/general/cap/',\n",
              "          'sizes': [40, 50]},\n",
              "         'name': 'grubhub'},\n",
              "        'url': 'https://www.grubhub.com/restaurant/pinkus-mcbride-market--deli-301-n-hamilton-st-madison/1106210?affiliate=1131&utm_source=foursquare-affiliate-network&utm_medium=affiliate&utm_campaign=1131&utm_content=1106210'},\n",
              "       'id': '4b7ca2fff964a520de9e2fe3',\n",
              "       'location': {'address': '301 N Hamilton St',\n",
              "        'cc': 'US',\n",
              "        'city': 'Madison',\n",
              "        'country': 'United States',\n",
              "        'crossStreet': 'E. Johnson',\n",
              "        'distance': 1290,\n",
              "        'formattedAddress': ['301 N Hamilton St (E. Johnson)',\n",
              "         'Madison, WI 53703',\n",
              "         'United States'],\n",
              "        'labeledLatLngs': [{'label': 'display',\n",
              "          'lat': 43.07918838457032,\n",
              "          'lng': -89.38392258044534}],\n",
              "        'lat': 43.07918838457032,\n",
              "        'lng': -89.38392258044534,\n",
              "        'postalCode': '53703',\n",
              "        'state': 'WI'},\n",
              "       'name': 'Pinkus McBride Market & Deli',\n",
              "       'photos': {'count': 0, 'groups': []}}},\n",
              "     {'reasons': {'count': 0,\n",
              "       'items': [{'reasonName': 'globalInteractionReason',\n",
              "         'summary': 'This spot is popular',\n",
              "         'type': 'general'}]},\n",
              "      'referralId': 'e-0-5ba3c256b37e2b002c9bcece-3',\n",
              "      'venue': {'categories': [{'icon': {'prefix': 'https://ss3.4sqi.net/img/categories_v2/shops/food_grocery_',\n",
              "          'suffix': '.png'},\n",
              "         'id': '4bf58dd8d48988d118951735',\n",
              "         'name': 'Grocery Store',\n",
              "         'pluralName': 'Grocery Stores',\n",
              "         'primary': True,\n",
              "         'shortName': 'Grocery Store'}],\n",
              "       'id': '5ba3c256b37e2b002c9bcece',\n",
              "       'location': {'address': '306 S Brearly St',\n",
              "        'cc': 'US',\n",
              "        'city': 'Madison',\n",
              "        'country': 'United States',\n",
              "        'crossStreet': 'Williamson St',\n",
              "        'distance': 705,\n",
              "        'formattedAddress': ['306 S Brearly St (Williamson St)',\n",
              "         'Madison, WI 53703',\n",
              "         'United States'],\n",
              "        'labeledLatLngs': [{'label': 'display',\n",
              "          'lat': 43.081056,\n",
              "          'lng': -89.368831}],\n",
              "        'lat': 43.081056,\n",
              "        'lng': -89.368831,\n",
              "        'postalCode': '53703',\n",
              "        'state': 'WI'},\n",
              "       'name': 'Alimentari',\n",
              "       'photos': {'count': 0, 'groups': []}}},\n",
              "     {'reasons': {'count': 0,\n",
              "       'items': [{'reasonName': 'globalInteractionReason',\n",
              "         'summary': 'This spot is popular',\n",
              "         'type': 'general'}]},\n",
              "      'referralId': 'e-0-4bdca2be2a3a0f47dabcb3b6-4',\n",
              "      'venue': {'categories': [{'icon': {'prefix': 'https://ss3.4sqi.net/img/categories_v2/shops/food_grocery_',\n",
              "          'suffix': '.png'},\n",
              "         'id': '4bf58dd8d48988d118951735',\n",
              "         'name': 'Grocery Store',\n",
              "         'pluralName': 'Grocery Stores',\n",
              "         'primary': True,\n",
              "         'shortName': 'Grocery Store'}],\n",
              "       'id': '4bdca2be2a3a0f47dabcb3b6',\n",
              "       'location': {'address': '312 E Mifflin St',\n",
              "        'cc': 'US',\n",
              "        'city': 'Madison',\n",
              "        'country': 'United States',\n",
              "        'distance': 1272,\n",
              "        'formattedAddress': ['312 E Mifflin St',\n",
              "         'Madison, WI 53703',\n",
              "         'United States'],\n",
              "        'labeledLatLngs': [{'label': 'display',\n",
              "          'lat': 43.07801250211011,\n",
              "          'lng': -89.38190816801506}],\n",
              "        'lat': 43.07801250211011,\n",
              "        'lng': -89.38190816801506,\n",
              "        'postalCode': '53703',\n",
              "        'state': 'WI'},\n",
              "       'name': 'Market Basket',\n",
              "       'photos': {'count': 0, 'groups': []}}}],\n",
              "    'name': 'recommended',\n",
              "    'type': 'Recommended Places'}],\n",
              "  'headerFullLocation': 'Tenney-Lapham, Madison',\n",
              "  'headerLocation': 'Tenney-Lapham',\n",
              "  'headerLocationGranularity': 'neighborhood',\n",
              "  'query': 'grocery store',\n",
              "  'suggestedBounds': {'ne': {'lat': 43.10141650976342,\n",
              "    'lng': -89.35230412329389},\n",
              "   'sw': {'lat': 43.07243648078339, 'lng': -89.39191140868311}},\n",
              "  'suggestedFilters': {'filters': [{'key': 'openNow', 'name': 'Open now'}],\n",
              "   'header': 'Tap to show:'},\n",
              "  'totalResults': 5}}"
            ]
          },
          "metadata": {
            "tags": []
          },
          "execution_count": 11
        }
      ]
    },
    {
      "cell_type": "code",
      "metadata": {
        "id": "yqJN6w-uxmHg",
        "colab_type": "code",
        "outputId": "087237df-0c91-474d-91f8-5f8e4fe4d6ca",
        "colab": {
          "base_uri": "https://localhost:8080/",
          "height": 104
        }
      },
      "source": [
        "type = results['response']['groups'][0]['items'][0]['venue']['categories'][0]['name']\n",
        "address = results['response']['groups'][0]['items'][0]['venue']['location']['formattedAddress'][0] + results['response']['groups'][0]['items'][0]['venue']['location']['formattedAddress'][1]\n",
        "\n",
        "store_lat = results['response']['groups'][0]['items'][0]['venue']['location']['labeledLatLngs'][0]['lat']\n",
        "store_lng = results['response']['groups'][0]['items'][0]['venue']['location']['labeledLatLngs'][0]['lng']\n",
        "\n",
        "store_name = store_lng = results['response']['groups'][0]['items'][0]['venue']['name']\n",
        "\n",
        "store_name\n",
        "grocery_Stores = [type,store_name,address,store_lat,store_lng]\n",
        "grocery_Stores"
      ],
      "execution_count": 61,
      "outputs": [
        {
          "output_type": "execute_result",
          "data": {
            "text/plain": [
              "['Grocery Store',\n",
              " 'Festival Foods',\n",
              " '810 E. Washington Ave.Madison, WI 53703',\n",
              " 43.08160876418695,\n",
              " 'Festival Foods']"
            ]
          },
          "metadata": {
            "tags": []
          },
          "execution_count": 61
        }
      ]
    },
    {
      "cell_type": "code",
      "metadata": {
        "id": "hLEddsJE5Dhw",
        "colab_type": "code",
        "colab": {}
      },
      "source": [
        ""
      ],
      "execution_count": 0,
      "outputs": []
    }
  ]
}