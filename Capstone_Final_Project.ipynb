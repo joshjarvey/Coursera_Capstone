{
  "nbformat": 4,
  "nbformat_minor": 0,
  "metadata": {
    "colab": {
      "name": "Capstone_Final Project.ipynb",
      "provenance": [],
      "include_colab_link": true
    },
    "kernelspec": {
      "name": "python3",
      "display_name": "Python 3"
    }
  },
  "cells": [
    {
      "cell_type": "markdown",
      "metadata": {
        "id": "view-in-github",
        "colab_type": "text"
      },
      "source": [
        "<a href=\"https://colab.research.google.com/github/joshjarvey/Coursera_Capstone/blob/master/Capstone_Final_Project.ipynb\" target=\"_parent\"><img src=\"https://colab.research.google.com/assets/colab-badge.svg\" alt=\"Open In Colab\"/></a>"
      ]
    },
    {
      "cell_type": "code",
      "metadata": {
        "id": "IKX_izv4bWLj",
        "colab_type": "code",
        "colab": {}
      },
      "source": [
        "import pandas as pd\n",
        "import numpy as np\n",
        "import folium\n",
        "from geopy.geocoders import Nominatim"
      ],
      "execution_count": 0,
      "outputs": []
    },
    {
      "cell_type": "code",
      "metadata": {
        "id": "v0b7hmxvbqY7",
        "colab_type": "code",
        "outputId": "733339ac-3cc0-478e-a020-bd5b7028af58",
        "colab": {
          "base_uri": "https://localhost:8080/",
          "height": 846
        }
      },
      "source": [
        "  #This data was gathered from an open public source via the City of Madison's Database:http://data-cityofmadison.opendata.arcgis.com/datasets/neighborhood-plans\n",
        "  #Since the database is an ARCGIS database, it only contained SHAPE data.\n",
        "  #The data was downloaded as a \"SHAPE\" file and converted to latitude and longitude using the free tool here:https://mygeodata.cloud/converter/shp-to-latlong\n",
        "\n",
        "  #read in the .csv data, and drop the columns that are not needed for the analysis of this project\n",
        "df_msn_neighborhood = pd.read_csv('/tmp/Neighborhood_Plans.csv').drop(['OBJECTID_1','OBJECTID','Status','Year','SHAPE_Leng','Link','ShapeSTAre','ShapeSTLen'], axis=1)\n",
        "\n",
        "  #rename the columns for easier referencing in the project.\n",
        "df_msn_neighborhood.rename(columns={'Y':'Latitude','X':'Longitude','PlanName':'Neighborhood'}, inplace=True)\n",
        "\n",
        "  #cleaning the names of the neighborhood values \n",
        "df_msn_neighborhood[\"Neighborhood\"]= df_msn_neighborhood[\"Neighborhood\"].str.replace('Neighborhood', '')\n",
        "df_msn_neighborhood[\"Neighborhood\"]= df_msn_neighborhood[\"Neighborhood\"].str.replace('Plan', '')\n",
        "df_msn_neighborhood\n"
      ],
      "execution_count": 5,
      "outputs": [
        {
          "output_type": "execute_result",
          "data": {
            "text/html": [
              "<div>\n",
              "<style scoped>\n",
              "    .dataframe tbody tr th:only-of-type {\n",
              "        vertical-align: middle;\n",
              "    }\n",
              "\n",
              "    .dataframe tbody tr th {\n",
              "        vertical-align: top;\n",
              "    }\n",
              "\n",
              "    .dataframe thead th {\n",
              "        text-align: right;\n",
              "    }\n",
              "</style>\n",
              "<table border=\"1\" class=\"dataframe\">\n",
              "  <thead>\n",
              "    <tr style=\"text-align: right;\">\n",
              "      <th></th>\n",
              "      <th>Longitude</th>\n",
              "      <th>Latitude</th>\n",
              "      <th>Neighborhood</th>\n",
              "    </tr>\n",
              "  </thead>\n",
              "  <tbody>\n",
              "    <tr>\n",
              "      <th>0</th>\n",
              "      <td>-89.341014</td>\n",
              "      <td>43.098683</td>\n",
              "      <td>Schenk-Atwood-Starkweather-Worthington Park</td>\n",
              "    </tr>\n",
              "    <tr>\n",
              "      <th>1</th>\n",
              "      <td>-89.372108</td>\n",
              "      <td>43.086926</td>\n",
              "      <td>Tenney-Lapham-Old Market</td>\n",
              "    </tr>\n",
              "    <tr>\n",
              "      <th>2</th>\n",
              "      <td>-89.358018</td>\n",
              "      <td>43.087919</td>\n",
              "      <td>Marquette-Schenk-Atwood</td>\n",
              "    </tr>\n",
              "    <tr>\n",
              "      <th>3</th>\n",
              "      <td>-89.409940</td>\n",
              "      <td>43.061988</td>\n",
              "      <td>Brittingham-Vilas</td>\n",
              "    </tr>\n",
              "    <tr>\n",
              "      <th>4</th>\n",
              "      <td>-89.390866</td>\n",
              "      <td>43.054009</td>\n",
              "      <td>Bay Creek</td>\n",
              "    </tr>\n",
              "    <tr>\n",
              "      <th>5</th>\n",
              "      <td>-89.346647</td>\n",
              "      <td>43.048048</td>\n",
              "      <td>Broadway-Simpson-Waunona</td>\n",
              "    </tr>\n",
              "    <tr>\n",
              "      <th>6</th>\n",
              "      <td>-89.456386</td>\n",
              "      <td>43.027492</td>\n",
              "      <td>Allied-Dunn's Marsh</td>\n",
              "    </tr>\n",
              "    <tr>\n",
              "      <th>7</th>\n",
              "      <td>-89.329012</td>\n",
              "      <td>43.113940</td>\n",
              "      <td>Carpenter-Ridgeway-Hawthorne-Truax</td>\n",
              "    </tr>\n",
              "    <tr>\n",
              "      <th>8</th>\n",
              "      <td>-89.488393</td>\n",
              "      <td>43.045119</td>\n",
              "      <td>Southwest</td>\n",
              "    </tr>\n",
              "    <tr>\n",
              "      <th>9</th>\n",
              "      <td>-89.384803</td>\n",
              "      <td>43.051256</td>\n",
              "      <td>South Madison</td>\n",
              "    </tr>\n",
              "    <tr>\n",
              "      <th>10</th>\n",
              "      <td>-89.474321</td>\n",
              "      <td>43.081871</td>\n",
              "      <td>Spring Harbor</td>\n",
              "    </tr>\n",
              "    <tr>\n",
              "      <th>11</th>\n",
              "      <td>-89.404887</td>\n",
              "      <td>43.062604</td>\n",
              "      <td>Greenbush</td>\n",
              "    </tr>\n",
              "    <tr>\n",
              "      <th>12</th>\n",
              "      <td>-89.366654</td>\n",
              "      <td>43.127063</td>\n",
              "      <td>Northport Warner Park Sherman</td>\n",
              "    </tr>\n",
              "    <tr>\n",
              "      <th>13</th>\n",
              "      <td>-89.453967</td>\n",
              "      <td>43.028905</td>\n",
              "      <td>Allied-Dunn's Marsh-Belmar s Physical Improvem...</td>\n",
              "    </tr>\n",
              "    <tr>\n",
              "      <th>14</th>\n",
              "      <td>-89.404971</td>\n",
              "      <td>43.069014</td>\n",
              "      <td>Regent Street - South Campus</td>\n",
              "    </tr>\n",
              "    <tr>\n",
              "      <th>15</th>\n",
              "      <td>-89.303949</td>\n",
              "      <td>43.102335</td>\n",
              "      <td>Hiestand</td>\n",
              "    </tr>\n",
              "    <tr>\n",
              "      <th>16</th>\n",
              "      <td>-89.457989</td>\n",
              "      <td>43.051803</td>\n",
              "      <td>Midvale Heights\\Westmorland Joint</td>\n",
              "    </tr>\n",
              "    <tr>\n",
              "      <th>17</th>\n",
              "      <td>-89.357813</td>\n",
              "      <td>43.102251</td>\n",
              "      <td>Emerson East Eken Park Yahara</td>\n",
              "    </tr>\n",
              "    <tr>\n",
              "      <th>18</th>\n",
              "      <td>-89.423833</td>\n",
              "      <td>43.072774</td>\n",
              "      <td>University Avenue Corridor</td>\n",
              "    </tr>\n",
              "    <tr>\n",
              "      <th>19</th>\n",
              "      <td>-89.459790</td>\n",
              "      <td>43.069368</td>\n",
              "      <td>University Hill Farms</td>\n",
              "    </tr>\n",
              "    <tr>\n",
              "      <th>20</th>\n",
              "      <td>-89.445474</td>\n",
              "      <td>43.068053</td>\n",
              "      <td>Hoyt Park Area</td>\n",
              "    </tr>\n",
              "    <tr>\n",
              "      <th>21</th>\n",
              "      <td>-89.428050</td>\n",
              "      <td>43.030104</td>\n",
              "      <td>Arbor Hills-Leopold</td>\n",
              "    </tr>\n",
              "    <tr>\n",
              "      <th>22</th>\n",
              "      <td>-89.389322</td>\n",
              "      <td>43.072876</td>\n",
              "      <td>Downtown</td>\n",
              "    </tr>\n",
              "    <tr>\n",
              "      <th>23</th>\n",
              "      <td>-89.422141</td>\n",
              "      <td>43.060541</td>\n",
              "      <td>Monroe Street Commercial District</td>\n",
              "    </tr>\n",
              "    <tr>\n",
              "      <th>24</th>\n",
              "      <td>-89.370387</td>\n",
              "      <td>43.084398</td>\n",
              "      <td>East Washington Capitol Gateway Corridor</td>\n",
              "    </tr>\n",
              "    <tr>\n",
              "      <th>25</th>\n",
              "      <td>-89.309473</td>\n",
              "      <td>43.076960</td>\n",
              "      <td>Stoughton Road Revitalization Project</td>\n",
              "    </tr>\n",
              "    <tr>\n",
              "      <th>26</th>\n",
              "      <td>-89.397318</td>\n",
              "      <td>43.052813</td>\n",
              "      <td>Wingra Creek Build</td>\n",
              "    </tr>\n",
              "  </tbody>\n",
              "</table>\n",
              "</div>"
            ],
            "text/plain": [
              "    Longitude   Latitude                                       Neighborhood\n",
              "0  -89.341014  43.098683      Schenk-Atwood-Starkweather-Worthington Park  \n",
              "1  -89.372108  43.086926                         Tenney-Lapham-Old Market  \n",
              "2  -89.358018  43.087919                          Marquette-Schenk-Atwood  \n",
              "3  -89.409940  43.061988                                Brittingham-Vilas  \n",
              "4  -89.390866  43.054009                                        Bay Creek  \n",
              "5  -89.346647  43.048048                         Broadway-Simpson-Waunona  \n",
              "6  -89.456386  43.027492                              Allied-Dunn's Marsh  \n",
              "7  -89.329012  43.113940               Carpenter-Ridgeway-Hawthorne-Truax  \n",
              "8  -89.488393  43.045119                                        Southwest  \n",
              "9  -89.384803  43.051256                                    South Madison  \n",
              "10 -89.474321  43.081871                                    Spring Harbor  \n",
              "11 -89.404887  43.062604                                         Greenbush \n",
              "12 -89.366654  43.127063                    Northport Warner Park Sherman  \n",
              "13 -89.453967  43.028905  Allied-Dunn's Marsh-Belmar s Physical Improvem...\n",
              "14 -89.404971  43.069014                      Regent Street - South Campus \n",
              "15 -89.303949  43.102335                                         Hiestand  \n",
              "16 -89.457989  43.051803                Midvale Heights\\Westmorland Joint  \n",
              "17 -89.357813  43.102251                    Emerson East Eken Park Yahara  \n",
              "18 -89.423833  43.072774                        University Avenue Corridor \n",
              "19 -89.459790  43.069368                            University Hill Farms  \n",
              "20 -89.445474  43.068053                                   Hoyt Park Area  \n",
              "21 -89.428050  43.030104                              Arbor Hills-Leopold  \n",
              "22 -89.389322  43.072876                                          Downtown \n",
              "23 -89.422141  43.060541                 Monroe Street Commercial District \n",
              "24 -89.370387  43.084398           East Washington Capitol Gateway Corridor\n",
              "25 -89.309473  43.076960              Stoughton Road Revitalization Project\n",
              "26 -89.397318  43.052813                                 Wingra Creek Build"
            ]
          },
          "metadata": {
            "tags": []
          },
          "execution_count": 5
        }
      ]
    },
    {
      "cell_type": "code",
      "metadata": {
        "id": "Q9Q0Wm0Yb-wL",
        "colab_type": "code",
        "colab": {
          "base_uri": "https://localhost:8080/",
          "height": 34
        },
        "outputId": "ff408738-dec3-4c33-83b3-02f783fdaf5f"
      },
      "source": [
        "#getting the lat/long coordinates of toronto, using the geolocater module\n",
        "address = 'Madison, WI'\n",
        "\n",
        "geolocator = Nominatim(user_agent=\"madison_explorer\")\n",
        "location = geolocator.geocode(address)\n",
        "latitude = location.latitude\n",
        "longitude = location.longitude\n",
        "print('The geograpical coordinate of Madison are {}, {}.'.format(latitude, longitude))"
      ],
      "execution_count": 6,
      "outputs": [
        {
          "output_type": "stream",
          "text": [
            "The geograpical coordinate of Madison are 43.074761, -89.3837613.\n"
          ],
          "name": "stdout"
        }
      ]
    },
    {
      "cell_type": "code",
      "metadata": {
        "id": "y2J5SUGXgsNm",
        "colab_type": "code",
        "colab": {
          "base_uri": "https://localhost:8080/",
          "height": 966
        },
        "outputId": "759e90d9-a662-4fb0-9c03-929a5e5c22aa"
      },
      "source": [
        "#create map of Toronto using latitude and longitude values\n",
        "map_madison = folium.Map(location=[latitude, longitude], zoom_start=13)\n",
        "\n",
        "    #add markers to map\n",
        "for lat, lng, label in zip(df_msn_neighborhood['Latitude'], df_msn_neighborhood['Longitude'], df_msn_neighborhood['Neighborhood']):\n",
        "    label = folium.Popup(label, parse_html=True)\n",
        "    folium.CircleMarker(\n",
        "        [lat, lng],\n",
        "        radius=5,\n",
        "        popup=label,\n",
        "        color='blue',\n",
        "        fill=True,\n",
        "        fill_color='#3186cc',\n",
        "        fill_opacity=0.7,\n",
        "        parse_html=False).add_to(map_madison)  \n",
        "\n",
        "    #display map\n",
        "map_madison"
      ],
      "execution_count": 16,
      "outputs": [
        {
          "output_type": "execute_result",
          "data": {
            "text/html": [
              "<div style=\"width:100%;\"><div style=\"position:relative;width:100%;height:0;padding-bottom:60%;\"><iframe src=\"data:text/html;charset=utf-8;base64,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\" style=\"position:absolute;width:100%;height:100%;left:0;top:0;border:none !important;\" allowfullscreen webkitallowfullscreen mozallowfullscreen></iframe></div></div>"
            ],
            "text/plain": [
              "<folium.folium.Map at 0x7f08a5099978>"
            ]
          },
          "metadata": {
            "tags": []
          },
          "execution_count": 16
        }
      ]
    },
    {
      "cell_type": "code",
      "metadata": {
        "id": "WKtX38P2g6x7",
        "colab_type": "code",
        "colab": {}
      },
      "source": [
        ""
      ],
      "execution_count": 0,
      "outputs": []
    }
  ]
}